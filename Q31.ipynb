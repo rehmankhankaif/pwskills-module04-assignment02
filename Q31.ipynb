{
 "cells": [
  {
   "cell_type": "markdown",
   "metadata": {},
   "source": [
    "Write a code that takes a list of words as input and returns a dictionary where the keys are unique words and the values are the frequencies of those words in the input list"
   ]
  },
  {
   "cell_type": "code",
   "execution_count": 1,
   "metadata": {},
   "outputs": [
    {
     "name": "stdout",
     "output_type": "stream",
     "text": [
      "{'kaif': 3, 'saif': 2, 'faiz': 3, 'talat': 2}\n"
     ]
    }
   ],
   "source": [
    "l = input().split(',')   #[kaif,saif,faiz, faiz, talat, kaif, saif, faiz, talat, kaif]\n",
    "\n",
    "d = {}\n",
    "\n",
    "for i in l:\n",
    "    if i in d:\n",
    "        d[i] += 1 \n",
    "    else:\n",
    "        d[i] = 1\n",
    "\n",
    "print(d)\n"
   ]
  }
 ],
 "metadata": {
  "kernelspec": {
   "display_name": "Python 3",
   "language": "python",
   "name": "python3"
  },
  "language_info": {
   "codemirror_mode": {
    "name": "ipython",
    "version": 3
   },
   "file_extension": ".py",
   "mimetype": "text/x-python",
   "name": "python",
   "nbconvert_exporter": "python",
   "pygments_lexer": "ipython3",
   "version": "3.9.19"
  }
 },
 "nbformat": 4,
 "nbformat_minor": 2
}
