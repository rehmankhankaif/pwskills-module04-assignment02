{
 "cells": [
  {
   "cell_type": "markdown",
   "metadata": {},
   "source": [
    "Develop a code that prompts the user to input two sets of strings. Then, print the symmetric difference of these two sets"
   ]
  },
  {
   "cell_type": "code",
   "execution_count": 2,
   "metadata": {},
   "outputs": [
    {
     "name": "stdout",
     "output_type": "stream",
     "text": [
      "Symmetric difference of the two sets: {'talat', 'saif', 'fazal', 'kaif'}\n"
     ]
    }
   ],
   "source": [
    "# Prompt the user to input two sets of strings\n",
    "set1 = set(input(\"Enter the first set of strings, separated by commas: \").split(','))\n",
    "set2 = set(input(\"Enter the second set of strings, separated by commas: \").split(','))\n",
    "\n",
    "#symmetric difference of the two sets\n",
    "symmetric_difference_set = set1 ^ set2 \n",
    "\n",
    "# Print the symmetric difference\n",
    "print(\"Symmetric difference of the two sets:\", symmetric_difference_set)\n"
   ]
  }
 ],
 "metadata": {
  "kernelspec": {
   "display_name": "Python 3",
   "language": "python",
   "name": "python3"
  },
  "language_info": {
   "codemirror_mode": {
    "name": "ipython",
    "version": 3
   },
   "file_extension": ".py",
   "mimetype": "text/x-python",
   "name": "python",
   "nbconvert_exporter": "python",
   "pygments_lexer": "ipython3",
   "version": "3.9.19"
  }
 },
 "nbformat": 4,
 "nbformat_minor": 2
}
