{
 "cells": [
  {
   "cell_type": "markdown",
   "metadata": {},
   "source": [
    "Develop a code that takes a tuple of integers as input. The function should return the maximum and minimum values from the tuple using tuple unpacking"
   ]
  },
  {
   "cell_type": "code",
   "execution_count": 1,
   "metadata": {},
   "outputs": [
    {
     "name": "stdout",
     "output_type": "stream",
     "text": [
      "The maximum value is: 10\n",
      "The minimum value is: 1\n"
     ]
    }
   ],
   "source": [
    "def find_max_min(t):\n",
    "    max_val = max(t)\n",
    "    min_val = min(t)\n",
    "    return max_val, min_val\n",
    "input_tuple = tuple(map(int, input(\"Enter integers separated by commas: \").split(',')))\n",
    "\n",
    "max_value, min_value = find_max_min(input_tuple)\n",
    "\n",
    "print(\"The maximum value is:\", max_value)\n",
    "print(\"The minimum value is:\", min_value)\n"
   ]
  }
 ],
 "metadata": {
  "kernelspec": {
   "display_name": "Python 3",
   "language": "python",
   "name": "python3"
  },
  "language_info": {
   "codemirror_mode": {
    "name": "ipython",
    "version": 3
   },
   "file_extension": ".py",
   "mimetype": "text/x-python",
   "name": "python",
   "nbconvert_exporter": "python",
   "pygments_lexer": "ipython3",
   "version": "3.9.19"
  }
 },
 "nbformat": 4,
 "nbformat_minor": 2
}
