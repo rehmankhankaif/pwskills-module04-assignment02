{
 "cells": [
  {
   "cell_type": "markdown",
   "metadata": {},
   "source": [
    "Write a code that takes a tuple and an element as input. The function should return the count of\n",
    "occurrences of the given element in the tuple"
   ]
  },
  {
   "cell_type": "code",
   "execution_count": 1,
   "metadata": {},
   "outputs": [
    {
     "name": "stdout",
     "output_type": "stream",
     "text": [
      "The element 7 occurs 7 times in the tuple.\n"
     ]
    }
   ],
   "source": [
    "def count_occurrences(t, element):\n",
    "    # Use the tuple method 'count' to count occurrences of the element\n",
    "    return t.count(element)\n",
    "\n",
    "input_tuple = tuple(map(int, input(\"Enter elements of the tuple, separated by commas: \").split(',')))\n",
    "element = int(input(\"Enter the element to count: \"))\n",
    "\n",
    "occurrences = count_occurrences(input_tuple, element)\n",
    "\n",
    "print(f\"The element {element} occurs {occurrences} times in the tuple.\")\n"
   ]
  }
 ],
 "metadata": {
  "kernelspec": {
   "display_name": "Python 3",
   "language": "python",
   "name": "python3"
  },
  "language_info": {
   "codemirror_mode": {
    "name": "ipython",
    "version": 3
   },
   "file_extension": ".py",
   "mimetype": "text/x-python",
   "name": "python",
   "nbconvert_exporter": "python",
   "pygments_lexer": "ipython3",
   "version": "3.9.19"
  }
 },
 "nbformat": 4,
 "nbformat_minor": 2
}
