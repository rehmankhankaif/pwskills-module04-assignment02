{
 "cells": [
  {
   "cell_type": "markdown",
   "metadata": {},
   "source": [
    "Create a code that defines two sets of integers. Then, print the union, intersection, and difference of these two sets"
   ]
  },
  {
   "cell_type": "code",
   "execution_count": 1,
   "metadata": {},
   "outputs": [
    {
     "name": "stdout",
     "output_type": "stream",
     "text": [
      "Union of the two sets: {1, 2, 3, 4, 5, 6, 7, 8}\n",
      "Intersection of the two sets: {4, 5}\n",
      "Difference of the two sets (set1 - set2): {1, 2, 3}\n"
     ]
    }
   ],
   "source": [
    "def set_operations(set1, set2):\n",
    "    # Calculate the union of the two sets\n",
    "    union_set = set1 | set2\n",
    "    # Calculate the intersection of the two sets\n",
    "    intersection_set = set1 & set2\n",
    "    # Calculate the difference of the two sets (set1 - set2)\n",
    "    difference_set = set1 - set2\n",
    "    \n",
    "    return union_set, intersection_set, difference_set\n",
    "\n",
    "set1 = {1, 2, 3, 4, 5}\n",
    "set2 = {4, 5, 6, 7, 8}\n",
    "\n",
    "union, intersection, difference = set_operations(set1, set2)\n",
    "\n",
    "# Print the results\n",
    "print(\"Union of the two sets:\", union)\n",
    "print(\"Intersection of the two sets:\", intersection)\n",
    "print(\"Difference of the two sets (set1 - set2):\", difference)\n"
   ]
  }
 ],
 "metadata": {
  "kernelspec": {
   "display_name": "Python 3",
   "language": "python",
   "name": "python3"
  },
  "language_info": {
   "codemirror_mode": {
    "name": "ipython",
    "version": 3
   },
   "file_extension": ".py",
   "mimetype": "text/x-python",
   "name": "python",
   "nbconvert_exporter": "python",
   "pygments_lexer": "ipython3",
   "version": "3.9.19"
  }
 },
 "nbformat": 4,
 "nbformat_minor": 2
}
