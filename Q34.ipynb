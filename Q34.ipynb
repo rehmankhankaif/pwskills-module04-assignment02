{
 "cells": [
  {
   "cell_type": "markdown",
   "metadata": {},
   "source": [
    "Write a code that takes a dictionary as input and returns a sorted version of it based on the values. You can choose whether to sort in ascending or descending order&"
   ]
  },
  {
   "cell_type": "code",
   "execution_count": 1,
   "metadata": {},
   "outputs": [
    {
     "name": "stdout",
     "output_type": "stream",
     "text": [
      "Sorted dictionary (ascending): {'date': 1, 'banana': 2, 'apple': 5, 'cherry': 7}\n",
      "Sorted dictionary (descending): {'cherry': 7, 'apple': 5, 'banana': 2, 'date': 1}\n"
     ]
    }
   ],
   "source": [
    "def sort_dict_by_value(d, ascending=True):\n",
    "    # Sort the dictionary by values\n",
    "    sorted_dict = dict(sorted(d.items(), key=lambda item: item[1], reverse=not ascending))\n",
    "    return sorted_dict\n",
    "\n",
    "# Example usage\n",
    "example_dict = {'apple': 5, 'banana': 2, 'cherry': 7, 'date': 1}\n",
    "\n",
    "# Sort in ascending order\n",
    "sorted_ascending = sort_dict_by_value(example_dict, ascending=True)\n",
    "print(\"Sorted dictionary (ascending):\", sorted_ascending)\n",
    "\n",
    "# Sort in descending order\n",
    "sorted_descending = sort_dict_by_value(example_dict, ascending=False)\n",
    "print(\"Sorted dictionary (descending):\", sorted_descending)\n"
   ]
  }
 ],
 "metadata": {
  "kernelspec": {
   "display_name": "Python 3",
   "language": "python",
   "name": "python3"
  },
  "language_info": {
   "codemirror_mode": {
    "name": "ipython",
    "version": 3
   },
   "file_extension": ".py",
   "mimetype": "text/x-python",
   "name": "python",
   "nbconvert_exporter": "python",
   "pygments_lexer": "ipython3",
   "version": "3.9.19"
  }
 },
 "nbformat": 4,
 "nbformat_minor": 2
}
