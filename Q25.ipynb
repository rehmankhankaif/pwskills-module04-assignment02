{
 "cells": [
  {
   "cell_type": "markdown",
   "metadata": {},
   "source": [
    "Create a code that takes a tuple and two integers as input. The function should return a new tuple containing elements from the original tuple within the specified range of indices"
   ]
  },
  {
   "cell_type": "code",
   "execution_count": 1,
   "metadata": {},
   "outputs": [
    {
     "name": "stdout",
     "output_type": "stream",
     "text": [
      "The new tuple with elements in the specified range is: (3, 4, 5, 6, 7, 8)\n"
     ]
    }
   ],
   "source": [
    "def sub_tup(original_tuple, start_index, end_index):\n",
    "    return original_tuple[start_index:end_index]\n",
    "\n",
    "input_tuple = tuple(map(int, input(\"Enter the elements of the tuple, separated by commas: \").split(',')))\n",
    "start_index = int(input(\"Enter the start index: \"))\n",
    "end_index = int(input(\"Enter the end index: \"))\n",
    "\n",
    "result = sub_tup(input_tuple, start_index, end_index)\n",
    "\n",
    "print(\"The new tuple with elements in the specified range is:\", result)\n"
   ]
  }
 ],
 "metadata": {
  "kernelspec": {
   "display_name": "Python 3",
   "language": "python",
   "name": "python3"
  },
  "language_info": {
   "codemirror_mode": {
    "name": "ipython",
    "version": 3
   },
   "file_extension": ".py",
   "mimetype": "text/x-python",
   "name": "python",
   "nbconvert_exporter": "python",
   "pygments_lexer": "ipython3",
   "version": "3.9.19"
  }
 },
 "nbformat": 4,
 "nbformat_minor": 2
}
