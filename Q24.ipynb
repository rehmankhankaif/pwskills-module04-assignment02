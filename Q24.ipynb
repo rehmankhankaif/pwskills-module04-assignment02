{
 "cells": [
  {
   "cell_type": "markdown",
   "metadata": {},
   "source": [
    "Develop a code that prompts the user to input two sets of strings. Then, print the elements that are present in the first set but not in the second set"
   ]
  },
  {
   "cell_type": "code",
   "execution_count": 1,
   "metadata": {},
   "outputs": [
    {
     "name": "stdout",
     "output_type": "stream",
     "text": [
      "Elements present in the first set but not in the second set: {' pineapple', ' banana', ' mango', 'apple'}\n"
     ]
    }
   ],
   "source": [
    "# Prompt the user to input two sets of strings\n",
    "set1 = set(input(\"Enter the first set of strings, separated by commas: \").split(','))\n",
    "set2 = set(input(\"Enter the second set of strings, separated by commas: \").split(','))\n",
    "\n",
    "# Calculate the difference between the two sets\n",
    "difference_set = set1 - set2\n",
    "\n",
    "# Print the elements present in the first set but not in the second set\n",
    "print(\"Elements present in the first set but not in the second set:\", difference_set)\n"
   ]
  }
 ],
 "metadata": {
  "kernelspec": {
   "display_name": "Python 3",
   "language": "python",
   "name": "python3"
  },
  "language_info": {
   "codemirror_mode": {
    "name": "ipython",
    "version": 3
   },
   "file_extension": ".py",
   "mimetype": "text/x-python",
   "name": "python",
   "nbconvert_exporter": "python",
   "pygments_lexer": "ipython3",
   "version": "3.9.19"
  }
 },
 "nbformat": 4,
 "nbformat_minor": 2
}
