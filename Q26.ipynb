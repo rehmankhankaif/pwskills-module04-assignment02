{
 "cells": [
  {
   "cell_type": "markdown",
   "metadata": {},
   "source": [
    "Write a code that prompts the user to input two sets of characters. Then, print the union of these two sets"
   ]
  },
  {
   "cell_type": "code",
   "execution_count": 1,
   "metadata": {},
   "outputs": [
    {
     "name": "stdout",
     "output_type": "stream",
     "text": [
      "Union of the two sets: {'k', 'd', 'f', 'b', 'c', 'j', 'g', 'l', 'i', 'e', 'h', 'a'}\n"
     ]
    }
   ],
   "source": [
    "# Prompt the user to input two sets of characters\n",
    "set1 = set(input(\"Enter the first set of characters, separated by commas: \").split(','))\n",
    "set2 = set(input(\"Enter the second set of characters, separated by commas: \").split(','))\n",
    "\n",
    "# Calculate the union of the two sets\n",
    "union_set = set1 | set2\n",
    "\n",
    "# Print the union of the two sets\n",
    "print(\"Union of the two sets:\", union_set)\n"
   ]
  }
 ],
 "metadata": {
  "kernelspec": {
   "display_name": "Python 3",
   "language": "python",
   "name": "python3"
  },
  "language_info": {
   "codemirror_mode": {
    "name": "ipython",
    "version": 3
   },
   "file_extension": ".py",
   "mimetype": "text/x-python",
   "name": "python",
   "nbconvert_exporter": "python",
   "pygments_lexer": "ipython3",
   "version": "3.9.19"
  }
 },
 "nbformat": 4,
 "nbformat_minor": 2
}
